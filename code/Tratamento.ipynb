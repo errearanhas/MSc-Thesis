{
 "cells": [
  {
   "cell_type": "code",
   "execution_count": 1,
   "metadata": {},
   "outputs": [],
   "source": [
    "import pandas as pd\n",
    "import os\n",
    "import geopy as geo\n",
    "import numpy as np\n",
    "from folium.plugins import FastMarkerCluster\n",
    "import folium\n",
    "from geopy.geocoders import Nominatim\n",
    "import matplotlib.pyplot as plt\n",
    "\n",
    "%matplotlib inline"
   ]
  },
  {
   "cell_type": "markdown",
   "metadata": {},
   "source": [
    "## Importando a base e gerando um sample"
   ]
  },
  {
   "cell_type": "code",
   "execution_count": 2,
   "metadata": {},
   "outputs": [
    {
     "data": {
      "text/plain": [
       "'/home/rsa/Documentos/thesis/code'"
      ]
     },
     "execution_count": 2,
     "metadata": {},
     "output_type": "execute_result"
    }
   ],
   "source": [
    "os.getcwd()"
   ]
  },
  {
   "cell_type": "code",
   "execution_count": 3,
   "metadata": {},
   "outputs": [
    {
     "name": "stdout",
     "output_type": "stream",
     "text": [
      "(2881294, 7)\n"
     ]
    }
   ],
   "source": [
    "df = pd.read_csv('/home/rsa/Documentos/database/2017-01-01.csv')\n",
    "\n",
    "df = df.rename(columns={df.columns[0]: \"DATAHORA\", df.columns[1]:\"ORDEM\", df.columns[2]: \"LINHA\",df.columns[3]:\"LATITUDE\",df.columns[4]:\"LONGITUDE\",df.columns[5]: \"VELOCIDADE\"})\n",
    "df = df.copy().drop_duplicates()\n",
    "df['lat_long'] = list(zip(round(df.LATITUDE,5), round(df.LONGITUDE,5)))\n",
    "\n",
    "print(df.shape)"
   ]
  },
  {
   "cell_type": "code",
   "execution_count": 4,
   "metadata": {},
   "outputs": [
    {
     "data": {
      "text/html": [
       "<div>\n",
       "<style scoped>\n",
       "    .dataframe tbody tr th:only-of-type {\n",
       "        vertical-align: middle;\n",
       "    }\n",
       "\n",
       "    .dataframe tbody tr th {\n",
       "        vertical-align: top;\n",
       "    }\n",
       "\n",
       "    .dataframe thead th {\n",
       "        text-align: right;\n",
       "    }\n",
       "</style>\n",
       "<table border=\"1\" class=\"dataframe\">\n",
       "  <thead>\n",
       "    <tr style=\"text-align: right;\">\n",
       "      <th></th>\n",
       "      <th>DATAHORA</th>\n",
       "      <th>ORDEM</th>\n",
       "      <th>LINHA</th>\n",
       "      <th>LATITUDE</th>\n",
       "      <th>LONGITUDE</th>\n",
       "      <th>VELOCIDADE</th>\n",
       "      <th>lat_long</th>\n",
       "    </tr>\n",
       "  </thead>\n",
       "  <tbody>\n",
       "    <tr>\n",
       "      <th>0</th>\n",
       "      <td>12-31-2016 00:01:20</td>\n",
       "      <td>D53555</td>\n",
       "      <td>923.0</td>\n",
       "      <td>-22.883249</td>\n",
       "      <td>-43.495098</td>\n",
       "      <td>0.0</td>\n",
       "      <td>(-22.88325, -43.4951)</td>\n",
       "    </tr>\n",
       "    <tr>\n",
       "      <th>1</th>\n",
       "      <td>12-31-2016 00:02:54</td>\n",
       "      <td>C47599</td>\n",
       "      <td>361.0</td>\n",
       "      <td>-23.000521</td>\n",
       "      <td>-43.342079</td>\n",
       "      <td>33.0</td>\n",
       "      <td>(-23.00052, -43.34208)</td>\n",
       "    </tr>\n",
       "    <tr>\n",
       "      <th>2</th>\n",
       "      <td>12-31-2016 00:03:07</td>\n",
       "      <td>D53508</td>\n",
       "      <td>NaN</td>\n",
       "      <td>-22.884239</td>\n",
       "      <td>-43.495720</td>\n",
       "      <td>0.0</td>\n",
       "      <td>(-22.88424, -43.49572)</td>\n",
       "    </tr>\n",
       "    <tr>\n",
       "      <th>3</th>\n",
       "      <td>12-31-2016 00:13:46</td>\n",
       "      <td>D17009</td>\n",
       "      <td>868.0</td>\n",
       "      <td>-22.908449</td>\n",
       "      <td>-43.660641</td>\n",
       "      <td>23.0</td>\n",
       "      <td>(-22.90845, -43.66064)</td>\n",
       "    </tr>\n",
       "    <tr>\n",
       "      <th>4</th>\n",
       "      <td>12-31-2016 00:20:26</td>\n",
       "      <td>D53915</td>\n",
       "      <td>2310.0</td>\n",
       "      <td>-22.882469</td>\n",
       "      <td>-43.495861</td>\n",
       "      <td>45.0</td>\n",
       "      <td>(-22.88247, -43.49586)</td>\n",
       "    </tr>\n",
       "  </tbody>\n",
       "</table>\n",
       "</div>"
      ],
      "text/plain": [
       "              DATAHORA   ORDEM   LINHA   LATITUDE  LONGITUDE  VELOCIDADE  \\\n",
       "0  12-31-2016 00:01:20  D53555   923.0 -22.883249 -43.495098         0.0   \n",
       "1  12-31-2016 00:02:54  C47599   361.0 -23.000521 -43.342079        33.0   \n",
       "2  12-31-2016 00:03:07  D53508     NaN -22.884239 -43.495720         0.0   \n",
       "3  12-31-2016 00:13:46  D17009   868.0 -22.908449 -43.660641        23.0   \n",
       "4  12-31-2016 00:20:26  D53915  2310.0 -22.882469 -43.495861        45.0   \n",
       "\n",
       "                 lat_long  \n",
       "0   (-22.88325, -43.4951)  \n",
       "1  (-23.00052, -43.34208)  \n",
       "2  (-22.88424, -43.49572)  \n",
       "3  (-22.90845, -43.66064)  \n",
       "4  (-22.88247, -43.49586)  "
      ]
     },
     "execution_count": 4,
     "metadata": {},
     "output_type": "execute_result"
    }
   ],
   "source": [
    "df.head()"
   ]
  },
  {
   "cell_type": "code",
   "execution_count": 5,
   "metadata": {},
   "outputs": [
    {
     "name": "stdout",
     "output_type": "stream",
     "text": [
      "Linha: 397\n",
      "Ordem: 6494\n",
      "LATITUDE: 90600\n",
      "LONGITUDE: 112345\n",
      "DATAHORA: 82591\n"
     ]
    }
   ],
   "source": [
    "print('Linha:', df.LINHA.nunique())\n",
    "print('Ordem:', df.ORDEM.nunique())\n",
    "print('LATITUDE:', df.LATITUDE.nunique())\n",
    "print('LONGITUDE:', df.LONGITUDE.nunique())\n",
    "print('DATAHORA:', df.DATAHORA.nunique())"
   ]
  },
  {
   "cell_type": "code",
   "execution_count": 261,
   "metadata": {},
   "outputs": [
    {
     "data": {
      "text/plain": [
       "<matplotlib.axes._subplots.AxesSubplot at 0x7fd2058d5f60>"
      ]
     },
     "execution_count": 261,
     "metadata": {},
     "output_type": "execute_result"
    },
    {
     "data": {
      "image/png": "[encoded data removed]",
      "text/plain": [
       "<Figure size 432x288 with 1 Axes>"
      ]
     },
     "metadata": {
      "needs_background": "light"
     },
     "output_type": "display_data"
    }
   ],
   "source": [
    "import seaborn as sns\n",
    "\n",
    "# sns.boxplot(x=df311g.lng)\n",
    "\n",
    "sns.boxplot(x=df.LATITUDE)"
   ]
  },
  {
   "cell_type": "code",
   "execution_count": 259,
   "metadata": {},
   "outputs": [
    {
     "name": "stdout",
     "output_type": "stream",
     "text": [
      "                   DATAHORA    ORDEM    LINHA      LATITUDE     LONGITUDE  \\\n",
      "count               2881294  2881294  1867018  2.881294e+06  2.881294e+06   \n",
      "unique                82591     6494      397           NaN           NaN   \n",
      "top     01-01-2017 08:24:30   C47491    878.0           NaN           NaN   \n",
      "freq                    100     2502    53428           NaN           NaN   \n",
      "mean                    NaN      NaN      NaN -2.290339e+01 -4.335681e+01   \n",
      "std                     NaN      NaN      NaN  5.630601e-02  1.509855e-01   \n",
      "min                     NaN      NaN      NaN -2.597741e+01 -5.432600e+01   \n",
      "25%                     NaN      NaN      NaN -2.295053e+01 -4.338890e+01   \n",
      "50%                     NaN      NaN      NaN -2.290070e+01 -4.334839e+01   \n",
      "75%                     NaN      NaN      NaN -2.287599e+01 -4.328511e+01   \n",
      "max                     NaN      NaN      NaN  0.000000e+00  1.043624e+02   \n",
      "\n",
      "          VELOCIDADE                lat_long  \n",
      "count   2.881294e+06                 2881294  \n",
      "unique           NaN                 1296150  \n",
      "top              NaN  (-22.95306, -43.35091)  \n",
      "freq             NaN                    2169  \n",
      "mean    1.101972e+01                     NaN  \n",
      "std     1.878057e+01                     NaN  \n",
      "min     0.000000e+00                     NaN  \n",
      "25%     0.000000e+00                     NaN  \n",
      "50%     0.000000e+00                     NaN  \n",
      "75%     1.900000e+01                     NaN  \n",
      "max     6.820900e+02                     NaN  \n"
     ]
    }
   ],
   "source": [
    "print(df.describe(include='all'))"
   ]
  },
  {
   "cell_type": "code",
   "execution_count": 6,
   "metadata": {},
   "outputs": [
    {
     "name": "stdout",
     "output_type": "stream",
     "text": [
      "(2881294, 6)\n",
      "<class 'pandas.core.frame.DataFrame'>\n",
      "RangeIndex: 2881294 entries, 0 to 2881293\n",
      "Data columns (total 6 columns):\n",
      "DATAHORA    datetime64[ns]\n",
      "ORDEM       object\n",
      "LINHA       object\n",
      "lat_long    object\n",
      "lat         float64\n",
      "lng         float64\n",
      "dtypes: datetime64[ns](1), float64(2), object(3)\n",
      "memory usage: 131.9+ MB\n"
     ]
    }
   ],
   "source": [
    "import datetime\n",
    "\n",
    "#df1 = df[df.LINHA.isin(['476.0'])].copy()\n",
    "#df1 = df.sample(1000000, random_state=1)\n",
    "df1 = df.copy()\n",
    "df1 = df1.rename(columns={'LATITUDE':'lat', 'LONGITUDE':'lng'})\n",
    "#df1[\"ID\"] = df1[\"ORDEM\"].map(str) +\"-\"+ df1[\"LINHA\"].map(str)\n",
    "\n",
    "df1['DATAHORA'] = df1.apply(lambda x: datetime.datetime.strptime(x.DATAHORA,\"%m-%d-%Y %H:%M:%S\"),1)\n",
    "\n",
    "df1 = df1[['DATAHORA', 'ORDEM', 'LINHA', 'lat_long', 'lat', 'lng']]\n",
    "df1 = df1.drop_duplicates()\n",
    "df1 = df1.sort_values(['LINHA', 'ORDEM', 'DATAHORA']).reset_index()\n",
    "df1 = df1.drop(columns=['index'])\n",
    "\n",
    "print(df1.shape)\n",
    "df1.info()"
   ]
  },
  {
   "cell_type": "code",
   "execution_count": 7,
   "metadata": {},
   "outputs": [
    {
     "data": {
      "text/html": [
       "<div>\n",
       "<style scoped>\n",
       "    .dataframe tbody tr th:only-of-type {\n",
       "        vertical-align: middle;\n",
       "    }\n",
       "\n",
       "    .dataframe tbody tr th {\n",
       "        vertical-align: top;\n",
       "    }\n",
       "\n",
       "    .dataframe thead th {\n",
       "        text-align: right;\n",
       "    }\n",
       "</style>\n",
       "<table border=\"1\" class=\"dataframe\">\n",
       "  <thead>\n",
       "    <tr style=\"text-align: right;\">\n",
       "      <th></th>\n",
       "      <th>DATAHORA</th>\n",
       "      <th>ORDEM</th>\n",
       "      <th>LINHA</th>\n",
       "      <th>lat_long</th>\n",
       "      <th>lat</th>\n",
       "      <th>lng</th>\n",
       "    </tr>\n",
       "  </thead>\n",
       "  <tbody>\n",
       "    <tr>\n",
       "      <th>0</th>\n",
       "      <td>2017-01-01 07:15:48</td>\n",
       "      <td>A01</td>\n",
       "      <td>1.0</td>\n",
       "      <td>(-22.96402, -43.17378)</td>\n",
       "      <td>-22.964020</td>\n",
       "      <td>-43.173779</td>\n",
       "    </tr>\n",
       "    <tr>\n",
       "      <th>1</th>\n",
       "      <td>2017-01-01 07:17:33</td>\n",
       "      <td>A01</td>\n",
       "      <td>1.0</td>\n",
       "      <td>(-22.96337, -43.17511)</td>\n",
       "      <td>-22.963369</td>\n",
       "      <td>-43.175110</td>\n",
       "    </tr>\n",
       "    <tr>\n",
       "      <th>2</th>\n",
       "      <td>2017-01-01 07:18:41</td>\n",
       "      <td>A01</td>\n",
       "      <td>1.0</td>\n",
       "      <td>(-22.96481, -43.17703)</td>\n",
       "      <td>-22.964809</td>\n",
       "      <td>-43.177029</td>\n",
       "    </tr>\n",
       "    <tr>\n",
       "      <th>3</th>\n",
       "      <td>2017-01-01 07:19:37</td>\n",
       "      <td>A01</td>\n",
       "      <td>1.0</td>\n",
       "      <td>(-22.96487, -43.17638)</td>\n",
       "      <td>-22.964870</td>\n",
       "      <td>-43.176380</td>\n",
       "    </tr>\n",
       "    <tr>\n",
       "      <th>4</th>\n",
       "      <td>2017-01-01 07:20:22</td>\n",
       "      <td>A01</td>\n",
       "      <td>1.0</td>\n",
       "      <td>(-22.96485, -43.17579)</td>\n",
       "      <td>-22.964849</td>\n",
       "      <td>-43.175789</td>\n",
       "    </tr>\n",
       "  </tbody>\n",
       "</table>\n",
       "</div>"
      ],
      "text/plain": [
       "             DATAHORA ORDEM LINHA                lat_long        lat  \\\n",
       "0 2017-01-01 07:15:48   A01   1.0  (-22.96402, -43.17378) -22.964020   \n",
       "1 2017-01-01 07:17:33   A01   1.0  (-22.96337, -43.17511) -22.963369   \n",
       "2 2017-01-01 07:18:41   A01   1.0  (-22.96481, -43.17703) -22.964809   \n",
       "3 2017-01-01 07:19:37   A01   1.0  (-22.96487, -43.17638) -22.964870   \n",
       "4 2017-01-01 07:20:22   A01   1.0  (-22.96485, -43.17579) -22.964849   \n",
       "\n",
       "         lng  \n",
       "0 -43.173779  \n",
       "1 -43.175110  \n",
       "2 -43.177029  \n",
       "3 -43.176380  \n",
       "4 -43.175789  "
      ]
     },
     "execution_count": 7,
     "metadata": {},
     "output_type": "execute_result"
    }
   ],
   "source": [
    "df1.head()"
   ]
  },
  {
   "cell_type": "code",
   "execution_count": 8,
   "metadata": {},
   "outputs": [
    {
     "data": {
      "text/html": [
       "<div>\n",
       "<style scoped>\n",
       "    .dataframe tbody tr th:only-of-type {\n",
       "        vertical-align: middle;\n",
       "    }\n",
       "\n",
       "    .dataframe tbody tr th {\n",
       "        vertical-align: top;\n",
       "    }\n",
       "\n",
       "    .dataframe thead th {\n",
       "        text-align: right;\n",
       "    }\n",
       "</style>\n",
       "<table border=\"1\" class=\"dataframe\">\n",
       "  <thead>\n",
       "    <tr style=\"text-align: right;\">\n",
       "      <th></th>\n",
       "      <th>DATAHORA</th>\n",
       "      <th>ORDEM</th>\n",
       "      <th>LINHA</th>\n",
       "      <th>lat_long</th>\n",
       "      <th>lat</th>\n",
       "      <th>lng</th>\n",
       "    </tr>\n",
       "    <tr>\n",
       "      <th>DATAHORA</th>\n",
       "      <th></th>\n",
       "      <th></th>\n",
       "      <th></th>\n",
       "      <th></th>\n",
       "      <th></th>\n",
       "      <th></th>\n",
       "    </tr>\n",
       "  </thead>\n",
       "  <tbody>\n",
       "    <tr>\n",
       "      <th>2016-12-31</th>\n",
       "      <td>11421</td>\n",
       "      <td>11421</td>\n",
       "      <td>8881</td>\n",
       "      <td>11421</td>\n",
       "      <td>11421</td>\n",
       "      <td>11421</td>\n",
       "    </tr>\n",
       "    <tr>\n",
       "      <th>2017-01-01</th>\n",
       "      <td>2869873</td>\n",
       "      <td>2869873</td>\n",
       "      <td>1858137</td>\n",
       "      <td>2869873</td>\n",
       "      <td>2869873</td>\n",
       "      <td>2869873</td>\n",
       "    </tr>\n",
       "  </tbody>\n",
       "</table>\n",
       "</div>"
      ],
      "text/plain": [
       "            DATAHORA    ORDEM    LINHA  lat_long      lat      lng\n",
       "DATAHORA                                                          \n",
       "2016-12-31     11421    11421     8881     11421    11421    11421\n",
       "2017-01-01   2869873  2869873  1858137   2869873  2869873  2869873"
      ]
     },
     "execution_count": 8,
     "metadata": {},
     "output_type": "execute_result"
    }
   ],
   "source": [
    "df1.groupby(df1.DATAHORA.dt.date).count()"
   ]
  },
  {
   "cell_type": "code",
   "execution_count": 17,
   "metadata": {},
   "outputs": [
    {
     "name": "stdout",
     "output_type": "stream",
     "text": [
      "count    2.881294e+06\n",
      "mean    -2.290339e+01\n",
      "std      5.630601e-02\n",
      "min     -2.597741e+01\n",
      "25%     -2.295053e+01\n",
      "50%     -2.290070e+01\n",
      "75%     -2.287599e+01\n",
      "max      0.000000e+00\n",
      "Name: lat, dtype: float64\n"
     ]
    },
    {
     "data": {
      "image/png": "[encoded data removed]",
      "text/plain": [
       "<Figure size 648x576 with 1 Axes>"
      ]
     },
     "metadata": {
      "needs_background": "light"
     },
     "output_type": "display_data"
    }
   ],
   "source": [
    "import seaborn as sns\n",
    "\n",
    "print(df1['lat'].describe())\n",
    "plt.figure(figsize=(9, 8))\n",
    "sns.distplot(df1['lat'], color='g', bins=100, hist_kws={'alpha': 0.4});\n",
    "#sns.distplot(df1['lng'], color='g', bins=100, hist_kws={'alpha': 0.4});"
   ]
  },
  {
   "cell_type": "code",
   "execution_count": null,
   "metadata": {},
   "outputs": [],
   "source": [
    "### Visualizando os dados no mapa (Folium)\n",
    "\n",
    "import folium\n",
    "from folium.plugins import MousePosition, MiniMap\n",
    "from folium.plugins import Draw\n",
    "\n",
    "locs = [list(i) for i in df1.drop_duplicates(['lat_long'])['lat_long']]\n",
    "\n",
    "brasil = folium.Map(\n",
    "    #width=500,height=500,\n",
    "    #tiles='OpenStreetMap',\n",
    "    #tiles='cartodbpositron',\n",
    "    tiles='CartoDB dark_matter',\n",
    "    location=locs[0],    \n",
    "    zoom_start=11\n",
    ")\n",
    "\n",
    "for i in locs: \n",
    "    folium.CircleMarker(\n",
    "        location=i,\n",
    "        color=['blue'],\n",
    "        radius=1,\n",
    "        weight=3\n",
    "    ).add_to(brasil)\n",
    "\n",
    "path = '/home/rsa/Documentos/thesis/plots_images/'\n",
    "\n",
    "mouse = MousePosition(position='topright')\n",
    "draw = Draw(export=True)\n",
    "minimap = MiniMap(toggle_display=True, tile_layer='CartoDB dark_matter')\n",
    "\n",
    "mouse.add_to(brasil)\n",
    "draw.add_to(brasil)\n",
    "minimap.add_to(brasil)\n",
    "\n",
    "brasil.save(path + 'plot_data.html')"
   ]
  },
  {
   "cell_type": "code",
   "execution_count": null,
   "metadata": {},
   "outputs": [],
   "source": [
    "# IMPORTANDO E \"TRADUZINDO\" O POLÍGONO SELECIONADO, PARA EM SEGUIDA SELECIONAR OS PONTOS ENGLOBADOS\n",
    "\n",
    "import geojson\n",
    "from shapely.geometry.polygon import Polygon\n",
    "\n",
    "with open('/home/rsa/Downloads/data.geojson') as f:\n",
    "    gj = geojson.load(f)\n",
    "\n",
    "polygon = gj['features'][0].geometry.coordinates[0]\n",
    "pol = Polygon(polygon) # create polygon\n",
    "print(polygon)\n",
    "pol"
   ]
  },
  {
   "cell_type": "code",
   "execution_count": null,
   "metadata": {},
   "outputs": [],
   "source": [
    "# ESTA CÉLULA DEVE SER RODADA APENAS EM CASO DE SELEÇÃO DE POLÍGONO\n",
    "\n",
    "# SELECIONANDO OS PONTOS ENGLOBADOS\n",
    "\n",
    "from shapely.geometry import Point\n",
    "\n",
    "df1['isin_draw'] = df1.apply(lambda x: pol.contains(Point(x.lng,x.lat)), 1)*1 # create column indicating if point is in Polygon\n",
    "df1 = df1[df1.isin_draw==True].copy()\n",
    "print(df1.shape)\n",
    "df1.head()"
   ]
  },
  {
   "cell_type": "markdown",
   "metadata": {},
   "source": [
    "## Applying Uber H3 (hexagons)"
   ]
  },
  {
   "cell_type": "code",
   "execution_count": 9,
   "metadata": {},
   "outputs": [
    {
     "name": "stdout",
     "output_type": "stream",
     "text": [
      "(2881294, 6)\n"
     ]
    },
    {
     "data": {
      "text/html": [
       "<div>\n",
       "<style scoped>\n",
       "    .dataframe tbody tr th:only-of-type {\n",
       "        vertical-align: middle;\n",
       "    }\n",
       "\n",
       "    .dataframe tbody tr th {\n",
       "        vertical-align: top;\n",
       "    }\n",
       "\n",
       "    .dataframe thead th {\n",
       "        text-align: right;\n",
       "    }\n",
       "</style>\n",
       "<table border=\"1\" class=\"dataframe\">\n",
       "  <thead>\n",
       "    <tr style=\"text-align: right;\">\n",
       "      <th></th>\n",
       "      <th>DATAHORA</th>\n",
       "      <th>ORDEM</th>\n",
       "      <th>LINHA</th>\n",
       "      <th>lat_long</th>\n",
       "      <th>lat</th>\n",
       "      <th>lng</th>\n",
       "    </tr>\n",
       "  </thead>\n",
       "  <tbody>\n",
       "    <tr>\n",
       "      <th>0</th>\n",
       "      <td>2017-01-01 07:15:48</td>\n",
       "      <td>A01</td>\n",
       "      <td>1.0</td>\n",
       "      <td>(-22.96402, -43.17378)</td>\n",
       "      <td>-22.964020</td>\n",
       "      <td>-43.173779</td>\n",
       "    </tr>\n",
       "    <tr>\n",
       "      <th>1</th>\n",
       "      <td>2017-01-01 07:17:33</td>\n",
       "      <td>A01</td>\n",
       "      <td>1.0</td>\n",
       "      <td>(-22.96337, -43.17511)</td>\n",
       "      <td>-22.963369</td>\n",
       "      <td>-43.175110</td>\n",
       "    </tr>\n",
       "    <tr>\n",
       "      <th>2</th>\n",
       "      <td>2017-01-01 07:18:41</td>\n",
       "      <td>A01</td>\n",
       "      <td>1.0</td>\n",
       "      <td>(-22.96481, -43.17703)</td>\n",
       "      <td>-22.964809</td>\n",
       "      <td>-43.177029</td>\n",
       "    </tr>\n",
       "    <tr>\n",
       "      <th>3</th>\n",
       "      <td>2017-01-01 07:19:37</td>\n",
       "      <td>A01</td>\n",
       "      <td>1.0</td>\n",
       "      <td>(-22.96487, -43.17638)</td>\n",
       "      <td>-22.964870</td>\n",
       "      <td>-43.176380</td>\n",
       "    </tr>\n",
       "    <tr>\n",
       "      <th>4</th>\n",
       "      <td>2017-01-01 07:20:22</td>\n",
       "      <td>A01</td>\n",
       "      <td>1.0</td>\n",
       "      <td>(-22.96485, -43.17579)</td>\n",
       "      <td>-22.964849</td>\n",
       "      <td>-43.175789</td>\n",
       "    </tr>\n",
       "  </tbody>\n",
       "</table>\n",
       "</div>"
      ],
      "text/plain": [
       "             DATAHORA ORDEM LINHA                lat_long        lat  \\\n",
       "0 2017-01-01 07:15:48   A01   1.0  (-22.96402, -43.17378) -22.964020   \n",
       "1 2017-01-01 07:17:33   A01   1.0  (-22.96337, -43.17511) -22.963369   \n",
       "2 2017-01-01 07:18:41   A01   1.0  (-22.96481, -43.17703) -22.964809   \n",
       "3 2017-01-01 07:19:37   A01   1.0  (-22.96487, -43.17638) -22.964870   \n",
       "4 2017-01-01 07:20:22   A01   1.0  (-22.96485, -43.17579) -22.964849   \n",
       "\n",
       "         lng  \n",
       "0 -43.173779  \n",
       "1 -43.175110  \n",
       "2 -43.177029  \n",
       "3 -43.176380  \n",
       "4 -43.175789  "
      ]
     },
     "execution_count": 9,
     "metadata": {},
     "output_type": "execute_result"
    }
   ],
   "source": [
    "print(df1.shape)\n",
    "df1.head()"
   ]
  },
  {
   "cell_type": "code",
   "execution_count": 256,
   "metadata": {},
   "outputs": [
    {
     "data": {
      "text/plain": [
       "<matplotlib.axes._subplots.AxesSubplot at 0x7fa6b442ac88>"
      ]
     },
     "execution_count": 256,
     "metadata": {},
     "output_type": "execute_result"
    },
    {
     "data": {
      "image/png": "[encoded data removed]",
      "text/plain": [
       "<Figure size 432x288 with 1 Axes>"
      ]
     },
     "metadata": {
      "needs_background": "light"
     },
     "output_type": "display_data"
    }
   ],
   "source": [
    "import seaborn as sns\n",
    "\n",
    "# sns.boxplot(x=df311g.lng)\n",
    "\n",
    "sns.boxplot(x=df1.lat)"
   ]
  },
  {
   "cell_type": "code",
   "execution_count": null,
   "metadata": {},
   "outputs": [],
   "source": [
    "# REMOVING OUTLIER USING Z-SCORE (Opcional: Rodar apenas para visualizar melhor no mapa do matplotlib)\n",
    "\n",
    "def remove_outlier(data_1, threshold=3):\n",
    "    outliers=[]\n",
    "\n",
    "    mean_1 = np.mean(data_1)\n",
    "    std_1 =np.std(data_1)\n",
    "    \n",
    "    for y in data_1:\n",
    "        z_score= (y - mean_1)/std_1 \n",
    "        if np.abs(z_score) > threshold:\n",
    "            outliers.append(y)\n",
    "    output = [i for i in data_1 if i not in outliers]\n",
    "    return output\n",
    "\n",
    "threshold = 2.5\n",
    "\n",
    "df1 = df1[df1.lng.isin(remove_outlier(df1.lng, threshold))]\n",
    "df1 = df1[df1.lat.isin(remove_outlier(df1.lat, threshold))]"
   ]
  },
  {
   "cell_type": "code",
   "execution_count": 10,
   "metadata": {},
   "outputs": [
    {
     "data": {
      "image/png": "[encoded data removed]",
      "text/plain": [
       "<Figure size 720x360 with 2 Axes>"
      ]
     },
     "metadata": {
      "needs_background": "light"
     },
     "output_type": "display_data"
    }
   ],
   "source": [
    "# CREATING HEXAGONS WITH CUSTOMIZED SIZE\n",
    "\n",
    "from h3 import h3\n",
    "\n",
    "APERTURE_SIZE = 12\n",
    "hex_col = 'hex' + str(APERTURE_SIZE)\n",
    "\n",
    "# Functions\n",
    "def plot_scatter(df, metric_col, x='lng_hex', y='lat_hex', marker='o', alpha=1, figsize=(17, 15), colormap='viridis'):    \n",
    "    #https://pandas.pydata.org/pandas-docs/stable/reference/api/pandas.DataFrame.plot.scatter.html\n",
    "    df.plot.scatter(x=x, y=y, c=metric_col, edgecolors='none', colormap=colormap, marker=marker, alpha=alpha, figsize=figsize);\n",
    "    plt.xticks([], []); plt.yticks([], [])\n",
    "\n",
    "# find hexs containing the points\n",
    "df1[hex_col] = df1.apply(lambda x: h3.geo_to_h3(x.lat_long[0],x.lat_long[1],APERTURE_SIZE), 1)\n",
    "\n",
    "# aggregate the points\n",
    "df1_ag = df1.groupby(hex_col).size().to_frame('count').reset_index()\n",
    "\n",
    "# find center of hex for visualization\n",
    "df1_ag['lat_hex'] = df1_ag[hex_col].apply(lambda x: h3.h3_to_geo(x)[0])\n",
    "df1_ag['lng_hex'] = df1_ag[hex_col].apply(lambda x: h3.h3_to_geo(x)[1])\n",
    "\n",
    "# plot the hexs\n",
    "plot_scatter(df1_ag, metric_col='count', figsize=(10,5))\n",
    "\n",
    "#print(df1.head())\n",
    "#print(df1_ag.head())"
   ]
  },
  {
   "cell_type": "code",
   "execution_count": null,
   "metadata": {},
   "outputs": [],
   "source": [
    "# VISUALIZING THE HEXAGONS\n",
    "\n",
    "from h3 import h3\n",
    "\n",
    "def visualize_hexagons(hexagons, color=\"red\", folium_map=None, fill= None):\n",
    "    \"\"\"\n",
    "    hexagons is a list of hexcluster. Each hexcluster is a list of hexagons. \n",
    "    eg. [[hex1, hex2], [hex3, hex4]]\n",
    "    \"\"\"\n",
    "    polylines = []\n",
    "    lat = []\n",
    "    lng = []\n",
    "    for hex in hexagons:\n",
    "        polygons = h3.h3_set_to_multi_polygon([hex], geo_json=False)\n",
    "        # flatten polygons into loops.\n",
    "        outlines = [loop for polygon in polygons for loop in polygon]\n",
    "        polyline = [outline + [outline[0]] for outline in outlines][0]\n",
    "        lat.extend(map(lambda v:v[0],polyline))\n",
    "        lng.extend(map(lambda v:v[1],polyline))\n",
    "        polylines.append(polyline)\n",
    "    \n",
    "    if folium_map is None:\n",
    "        m = folium.Map(location=[sum(lat)/len(lat), sum(lng)/len(lng)], zoom_start=13, tiles='cartodbpositron')\n",
    "    else:\n",
    "        m = folium_map\n",
    "    for polyline in polylines:\n",
    "        my_PolyLine=folium.PolyLine(locations=polyline,weight=8,color=color,fill_color=fill)\n",
    "        m.add_child(my_PolyLine)\n",
    "    return m"
   ]
  },
  {
   "cell_type": "code",
   "execution_count": null,
   "metadata": {},
   "outputs": [],
   "source": [
    "hexagons = df1_ag[hex_col].tolist()\n",
    "m = visualize_hexagons(hexagons, color='red', folium_map=brasil)\n",
    "m.save(path + 'hexagons_plot_data.html')"
   ]
  },
  {
   "cell_type": "code",
   "execution_count": 17,
   "metadata": {},
   "outputs": [
    {
     "name": "stdout",
     "output_type": "stream",
     "text": [
      "(1867011, 9)\n"
     ]
    },
    {
     "data": {
      "text/html": [
       "<div>\n",
       "<style scoped>\n",
       "    .dataframe tbody tr th:only-of-type {\n",
       "        vertical-align: middle;\n",
       "    }\n",
       "\n",
       "    .dataframe tbody tr th {\n",
       "        vertical-align: top;\n",
       "    }\n",
       "\n",
       "    .dataframe thead th {\n",
       "        text-align: right;\n",
       "    }\n",
       "</style>\n",
       "<table border=\"1\" class=\"dataframe\">\n",
       "  <thead>\n",
       "    <tr style=\"text-align: right;\">\n",
       "      <th></th>\n",
       "      <th>DATAHORA</th>\n",
       "      <th>ORDEM</th>\n",
       "      <th>LINHA</th>\n",
       "      <th>lat_long</th>\n",
       "      <th>lat</th>\n",
       "      <th>lng</th>\n",
       "      <th>hex12</th>\n",
       "      <th>shift_lat_long</th>\n",
       "      <th>delta_S</th>\n",
       "    </tr>\n",
       "  </thead>\n",
       "  <tbody>\n",
       "    <tr>\n",
       "      <th>1752919</th>\n",
       "      <td>2016-12-31 00:01:20</td>\n",
       "      <td>D53555</td>\n",
       "      <td>923.0</td>\n",
       "      <td>(-22.88325, -43.4951)</td>\n",
       "      <td>-22.883249</td>\n",
       "      <td>-43.495098</td>\n",
       "      <td>8ca8a06610105ff</td>\n",
       "      <td>NaN</td>\n",
       "      <td>NaN</td>\n",
       "    </tr>\n",
       "    <tr>\n",
       "      <th>1528934</th>\n",
       "      <td>2016-12-31 00:02:35</td>\n",
       "      <td>D86177</td>\n",
       "      <td>864.0</td>\n",
       "      <td>(-22.90029, -43.55116)</td>\n",
       "      <td>-22.900293</td>\n",
       "      <td>-43.551159</td>\n",
       "      <td>8ca8a0291d903ff</td>\n",
       "      <td>NaN</td>\n",
       "      <td>NaN</td>\n",
       "    </tr>\n",
       "    <tr>\n",
       "      <th>404028</th>\n",
       "      <td>2016-12-31 00:02:54</td>\n",
       "      <td>C47599</td>\n",
       "      <td>361.0</td>\n",
       "      <td>(-23.00052, -43.34208)</td>\n",
       "      <td>-23.000521</td>\n",
       "      <td>-43.342079</td>\n",
       "      <td>8ca8a070b782dff</td>\n",
       "      <td>NaN</td>\n",
       "      <td>NaN</td>\n",
       "    </tr>\n",
       "    <tr>\n",
       "      <th>1528935</th>\n",
       "      <td>2016-12-31 00:03:45</td>\n",
       "      <td>D86177</td>\n",
       "      <td>864.0</td>\n",
       "      <td>(-22.90029, -43.55116)</td>\n",
       "      <td>-22.900293</td>\n",
       "      <td>-43.551159</td>\n",
       "      <td>8ca8a0291d903ff</td>\n",
       "      <td>(-22.90029, -43.55116)</td>\n",
       "      <td>0.0</td>\n",
       "    </tr>\n",
       "    <tr>\n",
       "      <th>1528936</th>\n",
       "      <td>2016-12-31 00:04:20</td>\n",
       "      <td>D86177</td>\n",
       "      <td>864.0</td>\n",
       "      <td>(-22.90029, -43.55116)</td>\n",
       "      <td>-22.900293</td>\n",
       "      <td>-43.551159</td>\n",
       "      <td>8ca8a0291d903ff</td>\n",
       "      <td>(-22.90029, -43.55116)</td>\n",
       "      <td>0.0</td>\n",
       "    </tr>\n",
       "  </tbody>\n",
       "</table>\n",
       "</div>"
      ],
      "text/plain": [
       "                   DATAHORA   ORDEM  LINHA                lat_long        lat  \\\n",
       "1752919 2016-12-31 00:01:20  D53555  923.0   (-22.88325, -43.4951) -22.883249   \n",
       "1528934 2016-12-31 00:02:35  D86177  864.0  (-22.90029, -43.55116) -22.900293   \n",
       "404028  2016-12-31 00:02:54  C47599  361.0  (-23.00052, -43.34208) -23.000521   \n",
       "1528935 2016-12-31 00:03:45  D86177  864.0  (-22.90029, -43.55116) -22.900293   \n",
       "1528936 2016-12-31 00:04:20  D86177  864.0  (-22.90029, -43.55116) -22.900293   \n",
       "\n",
       "               lng            hex12          shift_lat_long  delta_S  \n",
       "1752919 -43.495098  8ca8a06610105ff                     NaN      NaN  \n",
       "1528934 -43.551159  8ca8a0291d903ff                     NaN      NaN  \n",
       "404028  -43.342079  8ca8a070b782dff                     NaN      NaN  \n",
       "1528935 -43.551159  8ca8a0291d903ff  (-22.90029, -43.55116)      0.0  \n",
       "1528936 -43.551159  8ca8a0291d903ff  (-22.90029, -43.55116)      0.0  "
      ]
     },
     "execution_count": 17,
     "metadata": {},
     "output_type": "execute_result"
    }
   ],
   "source": [
    "# ELIMINANDO LINHAS DE ONIBUS COM APENAS 1 SINAL EMITIDO\n",
    "\n",
    "aux = pd.DataFrame(df1.groupby('LINHA').size()).reset_index()\n",
    "aux = aux.rename(columns={0:'count'})\n",
    "include = aux[aux['count']>1]['LINHA']\n",
    "\n",
    "df1 = df1[df1.LINHA.isin(include)]\n",
    "df1 = df1.sort_values('DATAHORA')\n",
    "\n",
    "print(df1.shape)\n",
    "df1.head()"
   ]
  },
  {
   "cell_type": "code",
   "execution_count": 11,
   "metadata": {},
   "outputs": [],
   "source": [
    "# FUNÇÃO PARA CALCULAR AS DISTÂNCIAS ENTRE OS SINAIS DE GPS EMITIDOS (AGRUPADO POR LINHA DE ÔNIBUS)\n",
    "\n",
    "# VECTORIZES HAVERSINE FUNCTION\n",
    "\n",
    "def haversine2(lat1, lon1, lat2, lon2, to_radians=True, earth_radius=6371):\n",
    "    \"\"\"\n",
    "    slightly modified version: of http://stackoverflow.com/a/29546836/2901002\n",
    "\n",
    "    Calculate the great circle distance between two points\n",
    "    on the earth (specified in decimal degrees or in radians)\n",
    "\n",
    "    All (lat, lon) coordinates must have numeric dtypes and be of equal length.\n",
    "\n",
    "    \"\"\"\n",
    "    if to_radians:\n",
    "        lat1, lon1, lat2, lon2 = np.radians([lat1, lon1, lat2, lon2])\n",
    "\n",
    "    a = np.sin((lat2-lat1)/2.0)**2 + \\\n",
    "        np.cos(lat1) * np.cos(lat2) * np.sin((lon2-lon1)/2.0)**2\n",
    "\n",
    "    distance_in_meters = earth_radius * (10**3) * 2 * np.arcsin(np.sqrt(a))\n",
    "\n",
    "    return distance_in_meters\n",
    "\n",
    "# Ou dá para utilizar a função do pacote do Haversine\n",
    "\n",
    "#import haversine as hv\n",
    "#hv.haversine(df1.lat_long[1989351], df1.lat_long[3667807], unit = 'm')"
   ]
  },
  {
   "cell_type": "code",
   "execution_count": 12,
   "metadata": {},
   "outputs": [
    {
     "name": "stdout",
     "output_type": "stream",
     "text": [
      "866455.4329098684\n",
      "864213.2735075523\n"
     ]
    }
   ],
   "source": [
    "import geopy as geo\n",
    "from geopy import distance\n",
    "\n",
    "start = [41.49008, -71.312796]\n",
    "end = [41.499498, -81.695391]\n",
    "\n",
    "print(geo.distance.geodesic(start, end).m)\n",
    "\n",
    "print(haversine2(start[0], start[1], end[0], end[1]))"
   ]
  },
  {
   "cell_type": "code",
   "execution_count": 13,
   "metadata": {},
   "outputs": [],
   "source": [
    "# CALCULANDO AS DISTANCIAS (DELTA S) PELO GEODESIC DO GEOPY\n",
    "\n",
    "df1 = df1.sort_values(['LINHA','DATAHORA'])\n",
    "\n",
    "grp = df1.groupby('LINHA')\n",
    "\n",
    "df1['shift_lat_long'] = grp.shift()['lat_long']\n",
    "\n",
    "lista = []\n",
    "\n",
    "for i in df1.index:\n",
    "    if 'n' in str(df1.shift_lat_long[i]).lower():\n",
    "        lista.append(np.nan)\n",
    "    else:\n",
    "        lista.append(geo.distance.geodesic(df1.lat_long[i], df1.shift_lat_long[i]).m)\n",
    "        \n",
    "df1['delta_S'] = lista"
   ]
  },
  {
   "cell_type": "code",
   "execution_count": 15,
   "metadata": {},
   "outputs": [
    {
     "data": {
      "text/html": [
       "<div>\n",
       "<style scoped>\n",
       "    .dataframe tbody tr th:only-of-type {\n",
       "        vertical-align: middle;\n",
       "    }\n",
       "\n",
       "    .dataframe tbody tr th {\n",
       "        vertical-align: top;\n",
       "    }\n",
       "\n",
       "    .dataframe thead th {\n",
       "        text-align: right;\n",
       "    }\n",
       "</style>\n",
       "<table border=\"1\" class=\"dataframe\">\n",
       "  <thead>\n",
       "    <tr style=\"text-align: right;\">\n",
       "      <th></th>\n",
       "      <th>DATAHORA</th>\n",
       "      <th>ORDEM</th>\n",
       "      <th>LINHA</th>\n",
       "      <th>lat_long</th>\n",
       "      <th>lat</th>\n",
       "      <th>lng</th>\n",
       "      <th>hex12</th>\n",
       "      <th>shift_lat_long</th>\n",
       "      <th>delta_S</th>\n",
       "    </tr>\n",
       "  </thead>\n",
       "  <tbody>\n",
       "    <tr>\n",
       "      <th>319</th>\n",
       "      <td>2016-12-31 20:59:13</td>\n",
       "      <td>A10</td>\n",
       "      <td>1.0</td>\n",
       "      <td>(-22.87054, -43.24974)</td>\n",
       "      <td>-22.870543</td>\n",
       "      <td>-43.249741</td>\n",
       "      <td>8ca8a06adb513ff</td>\n",
       "      <td>NaN</td>\n",
       "      <td>NaN</td>\n",
       "    </tr>\n",
       "    <tr>\n",
       "      <th>561</th>\n",
       "      <td>2016-12-31 21:15:50</td>\n",
       "      <td>C41896</td>\n",
       "      <td>1.0</td>\n",
       "      <td>(-22.87023, -43.24931)</td>\n",
       "      <td>-22.870230</td>\n",
       "      <td>-43.249313</td>\n",
       "      <td>8ca8a06adb5e5ff</td>\n",
       "      <td>(-22.87054, -43.24974)</td>\n",
       "      <td>55.908117</td>\n",
       "    </tr>\n",
       "    <tr>\n",
       "      <th>318</th>\n",
       "      <td>2016-12-31 21:21:52</td>\n",
       "      <td>A09</td>\n",
       "      <td>1.0</td>\n",
       "      <td>(-22.87079, -43.2499)</td>\n",
       "      <td>-22.870787</td>\n",
       "      <td>-43.249897</td>\n",
       "      <td>8ca8a06adb427ff</td>\n",
       "      <td>(-22.87023, -43.24931)</td>\n",
       "      <td>86.670281</td>\n",
       "    </tr>\n",
       "    <tr>\n",
       "      <th>562</th>\n",
       "      <td>2016-12-31 23:58:36</td>\n",
       "      <td>D12120</td>\n",
       "      <td>1.0</td>\n",
       "      <td>(-22.87092, -43.24917)</td>\n",
       "      <td>-22.870920</td>\n",
       "      <td>-43.249168</td>\n",
       "      <td>8ca8a06adb501ff</td>\n",
       "      <td>(-22.87079, -43.2499)</td>\n",
       "      <td>76.283259</td>\n",
       "    </tr>\n",
       "    <tr>\n",
       "      <th>563</th>\n",
       "      <td>2016-12-31 23:59:06</td>\n",
       "      <td>D12120</td>\n",
       "      <td>1.0</td>\n",
       "      <td>(-22.87092, -43.24917)</td>\n",
       "      <td>-22.870920</td>\n",
       "      <td>-43.249168</td>\n",
       "      <td>8ca8a06adb501ff</td>\n",
       "      <td>(-22.87092, -43.24917)</td>\n",
       "      <td>0.000000</td>\n",
       "    </tr>\n",
       "  </tbody>\n",
       "</table>\n",
       "</div>"
      ],
      "text/plain": [
       "               DATAHORA   ORDEM LINHA                lat_long        lat  \\\n",
       "319 2016-12-31 20:59:13     A10   1.0  (-22.87054, -43.24974) -22.870543   \n",
       "561 2016-12-31 21:15:50  C41896   1.0  (-22.87023, -43.24931) -22.870230   \n",
       "318 2016-12-31 21:21:52     A09   1.0   (-22.87079, -43.2499) -22.870787   \n",
       "562 2016-12-31 23:58:36  D12120   1.0  (-22.87092, -43.24917) -22.870920   \n",
       "563 2016-12-31 23:59:06  D12120   1.0  (-22.87092, -43.24917) -22.870920   \n",
       "\n",
       "           lng            hex12          shift_lat_long    delta_S  \n",
       "319 -43.249741  8ca8a06adb513ff                     NaN        NaN  \n",
       "561 -43.249313  8ca8a06adb5e5ff  (-22.87054, -43.24974)  55.908117  \n",
       "318 -43.249897  8ca8a06adb427ff  (-22.87023, -43.24931)  86.670281  \n",
       "562 -43.249168  8ca8a06adb501ff   (-22.87079, -43.2499)  76.283259  \n",
       "563 -43.249168  8ca8a06adb501ff  (-22.87092, -43.24917)   0.000000  "
      ]
     },
     "execution_count": 15,
     "metadata": {},
     "output_type": "execute_result"
    }
   ],
   "source": [
    "df1.head()"
   ]
  },
  {
   "cell_type": "code",
   "execution_count": 18,
   "metadata": {},
   "outputs": [],
   "source": [
    "# CALCULANDO AS DISTANCIAS (DELTA s) E OS TEMPOS (DELTA T)\n",
    "\n",
    "df1 = df1.sort_values(['LINHA','DATAHORA'])\n",
    "\n",
    "grp = df1.groupby('LINHA')\n",
    "\n",
    "# CALCULANDO DISTANCE TRAVELED\n",
    "df1['delta_s'] = np.concatenate(grp.apply(lambda x: haversine2(x['lat'], x['lng'], x['lat'].shift(), x['lng'].shift()\n",
    "                                                              )\n",
    "                                         ).values\n",
    "                               )\n",
    "                                \n",
    "# CALCULANDO TIME SPENT\n",
    "df1['delta_t'] = (grp.apply(lambda x: x['DATAHORA'] - x['DATAHORA'].shift()).values)\n",
    "\n",
    "df1['delta_t'] = df1.apply(lambda x: x['delta_t'].total_seconds(),1).values\n",
    "\n",
    "#df1['delta_t'] = df1['delta_t'].fillna(pd.Timedelta(seconds=0))\n",
    "df1['delta_t'] = df1['delta_t'].fillna(0)\n",
    "df1['delta_s'] = df1['delta_s'].fillna(0)\n",
    "\n",
    "df1['delta_S'] = df1['delta_S'].fillna(0)\n",
    "\n",
    "#df1 = df1[df1.delta_s!=0]"
   ]
  },
  {
   "cell_type": "code",
   "execution_count": 19,
   "metadata": {},
   "outputs": [
    {
     "data": {
      "text/html": [
       "<div>\n",
       "<style scoped>\n",
       "    .dataframe tbody tr th:only-of-type {\n",
       "        vertical-align: middle;\n",
       "    }\n",
       "\n",
       "    .dataframe tbody tr th {\n",
       "        vertical-align: top;\n",
       "    }\n",
       "\n",
       "    .dataframe thead th {\n",
       "        text-align: right;\n",
       "    }\n",
       "</style>\n",
       "<table border=\"1\" class=\"dataframe\">\n",
       "  <thead>\n",
       "    <tr style=\"text-align: right;\">\n",
       "      <th></th>\n",
       "      <th>DATAHORA</th>\n",
       "      <th>ORDEM</th>\n",
       "      <th>LINHA</th>\n",
       "      <th>lat_long</th>\n",
       "      <th>lat</th>\n",
       "      <th>lng</th>\n",
       "      <th>hex12</th>\n",
       "      <th>shift_lat_long</th>\n",
       "      <th>delta_S</th>\n",
       "      <th>delta_s</th>\n",
       "      <th>delta_t</th>\n",
       "    </tr>\n",
       "  </thead>\n",
       "  <tbody>\n",
       "    <tr>\n",
       "      <th>319</th>\n",
       "      <td>2016-12-31 20:59:13</td>\n",
       "      <td>A10</td>\n",
       "      <td>1.0</td>\n",
       "      <td>(-22.87054, -43.24974)</td>\n",
       "      <td>-22.870543</td>\n",
       "      <td>-43.249741</td>\n",
       "      <td>8ca8a06adb513ff</td>\n",
       "      <td>NaN</td>\n",
       "      <td>0.000000</td>\n",
       "      <td>0.000000</td>\n",
       "      <td>0.0</td>\n",
       "    </tr>\n",
       "    <tr>\n",
       "      <th>561</th>\n",
       "      <td>2016-12-31 21:15:50</td>\n",
       "      <td>C41896</td>\n",
       "      <td>1.0</td>\n",
       "      <td>(-22.87023, -43.24931)</td>\n",
       "      <td>-22.870230</td>\n",
       "      <td>-43.249313</td>\n",
       "      <td>8ca8a06adb5e5ff</td>\n",
       "      <td>(-22.87054, -43.24974)</td>\n",
       "      <td>55.908117</td>\n",
       "      <td>55.983481</td>\n",
       "      <td>997.0</td>\n",
       "    </tr>\n",
       "    <tr>\n",
       "      <th>318</th>\n",
       "      <td>2016-12-31 21:21:52</td>\n",
       "      <td>A09</td>\n",
       "      <td>1.0</td>\n",
       "      <td>(-22.87079, -43.2499)</td>\n",
       "      <td>-22.870787</td>\n",
       "      <td>-43.249897</td>\n",
       "      <td>8ca8a06adb427ff</td>\n",
       "      <td>(-22.87023, -43.24931)</td>\n",
       "      <td>86.670281</td>\n",
       "      <td>86.116071</td>\n",
       "      <td>362.0</td>\n",
       "    </tr>\n",
       "    <tr>\n",
       "      <th>562</th>\n",
       "      <td>2016-12-31 23:58:36</td>\n",
       "      <td>D12120</td>\n",
       "      <td>1.0</td>\n",
       "      <td>(-22.87092, -43.24917)</td>\n",
       "      <td>-22.870920</td>\n",
       "      <td>-43.249168</td>\n",
       "      <td>8ca8a06adb501ff</td>\n",
       "      <td>(-22.87079, -43.2499)</td>\n",
       "      <td>76.283259</td>\n",
       "      <td>76.138429</td>\n",
       "      <td>9404.0</td>\n",
       "    </tr>\n",
       "    <tr>\n",
       "      <th>563</th>\n",
       "      <td>2016-12-31 23:59:06</td>\n",
       "      <td>D12120</td>\n",
       "      <td>1.0</td>\n",
       "      <td>(-22.87092, -43.24917)</td>\n",
       "      <td>-22.870920</td>\n",
       "      <td>-43.249168</td>\n",
       "      <td>8ca8a06adb501ff</td>\n",
       "      <td>(-22.87092, -43.24917)</td>\n",
       "      <td>0.000000</td>\n",
       "      <td>0.000000</td>\n",
       "      <td>30.0</td>\n",
       "    </tr>\n",
       "  </tbody>\n",
       "</table>\n",
       "</div>"
      ],
      "text/plain": [
       "               DATAHORA   ORDEM LINHA                lat_long        lat  \\\n",
       "319 2016-12-31 20:59:13     A10   1.0  (-22.87054, -43.24974) -22.870543   \n",
       "561 2016-12-31 21:15:50  C41896   1.0  (-22.87023, -43.24931) -22.870230   \n",
       "318 2016-12-31 21:21:52     A09   1.0   (-22.87079, -43.2499) -22.870787   \n",
       "562 2016-12-31 23:58:36  D12120   1.0  (-22.87092, -43.24917) -22.870920   \n",
       "563 2016-12-31 23:59:06  D12120   1.0  (-22.87092, -43.24917) -22.870920   \n",
       "\n",
       "           lng            hex12          shift_lat_long    delta_S    delta_s  \\\n",
       "319 -43.249741  8ca8a06adb513ff                     NaN   0.000000   0.000000   \n",
       "561 -43.249313  8ca8a06adb5e5ff  (-22.87054, -43.24974)  55.908117  55.983481   \n",
       "318 -43.249897  8ca8a06adb427ff  (-22.87023, -43.24931)  86.670281  86.116071   \n",
       "562 -43.249168  8ca8a06adb501ff   (-22.87079, -43.2499)  76.283259  76.138429   \n",
       "563 -43.249168  8ca8a06adb501ff  (-22.87092, -43.24917)   0.000000   0.000000   \n",
       "\n",
       "     delta_t  \n",
       "319      0.0  \n",
       "561    997.0  \n",
       "318    362.0  \n",
       "562   9404.0  \n",
       "563     30.0  "
      ]
     },
     "execution_count": 19,
     "metadata": {},
     "output_type": "execute_result"
    }
   ],
   "source": [
    "df1.head()"
   ]
  },
  {
   "cell_type": "code",
   "execution_count": 20,
   "metadata": {},
   "outputs": [
    {
     "data": {
      "text/plain": [
       "\"\\ngraf = graf[graf.speed != np.inf]\\n\\ndens = np.array([graf.LINHA/graf.area_hexagon])\\nvel = np.array([graf.speed])\\n\\ngraf['density'] = preprocessing.normalize([dens][0])[0]\\ngraf['speed'] = preprocessing.normalize([vel][0])[0]\\n\\ngraf = graf[['density', 'speed']]\\ngraf.head()\\n\""
      ]
     },
     "execution_count": 20,
     "metadata": {},
     "output_type": "execute_result"
    }
   ],
   "source": [
    "# CALCULANDO AS ÁREAS DOS HEXÁGONOS E O TAMANHO DAS JANELAS DE TEMPO QUE DEVEM SER CONSIDERADAS\n",
    "\n",
    "from shapely.geometry.polygon import Polygon\n",
    "\n",
    "df1['area_hexagon'] = df1.apply(lambda x: Polygon(h3.h3_to_geo_boundary(x[hex_col])).area,1) # o tamanho hex_col já foi definido anteriormente\n",
    "\n",
    "grou = df1.groupby([pd.Grouper(freq='10min', key='DATAHORA'), hex_col]) # GROUP BY POR JANELA DE TEMPO e HEXAGONOS\n",
    "\n",
    "graf = grou.agg({'delta_S': 'sum', 'delta_t': 'sum', 'area_hexagon':'first', 'LINHA':'nunique'})\n",
    "\n",
    "graf = graf[graf.delta_S!=0]\n",
    "\n",
    "graf = graf.reset_index()\n",
    "\n",
    "from sklearn import preprocessing\n",
    "\n",
    "\"\"\"\n",
    "graf = graf[graf.speed != np.inf]\n",
    "\n",
    "dens = np.array([graf.LINHA/graf.area_hexagon])\n",
    "vel = np.array([graf.speed])\n",
    "\n",
    "graf['density'] = preprocessing.normalize([dens][0])[0]\n",
    "graf['speed'] = preprocessing.normalize([vel][0])[0]\n",
    "\n",
    "graf = graf[['density', 'speed']]\n",
    "graf.head()\n",
    "\"\"\""
   ]
  },
  {
   "cell_type": "code",
   "execution_count": 21,
   "metadata": {},
   "outputs": [
    {
     "data": {
      "text/html": [
       "<div>\n",
       "<style scoped>\n",
       "    .dataframe tbody tr th:only-of-type {\n",
       "        vertical-align: middle;\n",
       "    }\n",
       "\n",
       "    .dataframe tbody tr th {\n",
       "        vertical-align: top;\n",
       "    }\n",
       "\n",
       "    .dataframe thead th {\n",
       "        text-align: right;\n",
       "    }\n",
       "</style>\n",
       "<table border=\"1\" class=\"dataframe\">\n",
       "  <thead>\n",
       "    <tr style=\"text-align: right;\">\n",
       "      <th></th>\n",
       "      <th>DATAHORA</th>\n",
       "      <th>hex12</th>\n",
       "      <th>delta_S</th>\n",
       "      <th>delta_t</th>\n",
       "      <th>area_hexagon</th>\n",
       "      <th>LINHA</th>\n",
       "    </tr>\n",
       "  </thead>\n",
       "  <tbody>\n",
       "    <tr>\n",
       "      <th>0</th>\n",
       "      <td>2016-12-31 03:50:00</td>\n",
       "      <td>8ca8a061b28d9ff</td>\n",
       "      <td>165.440311</td>\n",
       "      <td>14.0</td>\n",
       "      <td>2.780512e-08</td>\n",
       "      <td>1</td>\n",
       "    </tr>\n",
       "    <tr>\n",
       "      <th>1</th>\n",
       "      <td>2016-12-31 03:50:00</td>\n",
       "      <td>8ca8a061b2a97ff</td>\n",
       "      <td>67.627627</td>\n",
       "      <td>53.0</td>\n",
       "      <td>2.780502e-08</td>\n",
       "      <td>1</td>\n",
       "    </tr>\n",
       "    <tr>\n",
       "      <th>2</th>\n",
       "      <td>2016-12-31 03:50:00</td>\n",
       "      <td>8ca8a061b2d51ff</td>\n",
       "      <td>17.748383</td>\n",
       "      <td>28.0</td>\n",
       "      <td>2.780539e-08</td>\n",
       "      <td>1</td>\n",
       "    </tr>\n",
       "    <tr>\n",
       "      <th>3</th>\n",
       "      <td>2016-12-31 03:50:00</td>\n",
       "      <td>8ca8a061b2d59ff</td>\n",
       "      <td>95.084988</td>\n",
       "      <td>81.0</td>\n",
       "      <td>2.780535e-08</td>\n",
       "      <td>1</td>\n",
       "    </tr>\n",
       "    <tr>\n",
       "      <th>4</th>\n",
       "      <td>2016-12-31 03:50:00</td>\n",
       "      <td>8ca8a061b2d5bff</td>\n",
       "      <td>249.877302</td>\n",
       "      <td>68.0</td>\n",
       "      <td>2.780538e-08</td>\n",
       "      <td>1</td>\n",
       "    </tr>\n",
       "  </tbody>\n",
       "</table>\n",
       "</div>"
      ],
      "text/plain": [
       "             DATAHORA            hex12     delta_S  delta_t  area_hexagon  \\\n",
       "0 2016-12-31 03:50:00  8ca8a061b28d9ff  165.440311     14.0  2.780512e-08   \n",
       "1 2016-12-31 03:50:00  8ca8a061b2a97ff   67.627627     53.0  2.780502e-08   \n",
       "2 2016-12-31 03:50:00  8ca8a061b2d51ff   17.748383     28.0  2.780539e-08   \n",
       "3 2016-12-31 03:50:00  8ca8a061b2d59ff   95.084988     81.0  2.780535e-08   \n",
       "4 2016-12-31 03:50:00  8ca8a061b2d5bff  249.877302     68.0  2.780538e-08   \n",
       "\n",
       "   LINHA  \n",
       "0      1  \n",
       "1      1  \n",
       "2      1  \n",
       "3      1  \n",
       "4      1  "
      ]
     },
     "execution_count": 21,
     "metadata": {},
     "output_type": "execute_result"
    }
   ],
   "source": [
    "graf.head(5)"
   ]
  },
  {
   "cell_type": "code",
   "execution_count": 22,
   "metadata": {},
   "outputs": [],
   "source": [
    "graf['Q_i'] = graf.delta_S/(5*graf.area_hexagon*1e8) # DENSITY\n",
    "graf['K_i'] = graf.delta_t/(5*graf.area_hexagon*1e8) # FLOW\n",
    "\n",
    "# A method to estimate the macroscopic fundamental diagram using limited mobile probe data\n",
    "\n",
    "#graf['Q_i'] = graf.delta_s/(5*100)\n",
    "#graf['K_i'] = graf.delta_t/(5*100)"
   ]
  },
  {
   "cell_type": "code",
   "execution_count": 23,
   "metadata": {},
   "outputs": [
    {
     "data": {
      "text/html": [
       "<div>\n",
       "<style scoped>\n",
       "    .dataframe tbody tr th:only-of-type {\n",
       "        vertical-align: middle;\n",
       "    }\n",
       "\n",
       "    .dataframe tbody tr th {\n",
       "        vertical-align: top;\n",
       "    }\n",
       "\n",
       "    .dataframe thead th {\n",
       "        text-align: right;\n",
       "    }\n",
       "</style>\n",
       "<table border=\"1\" class=\"dataframe\">\n",
       "  <thead>\n",
       "    <tr style=\"text-align: right;\">\n",
       "      <th></th>\n",
       "      <th>DATAHORA</th>\n",
       "      <th>hex12</th>\n",
       "      <th>delta_S</th>\n",
       "      <th>delta_t</th>\n",
       "      <th>area_hexagon</th>\n",
       "      <th>LINHA</th>\n",
       "      <th>Q_i</th>\n",
       "      <th>K_i</th>\n",
       "    </tr>\n",
       "  </thead>\n",
       "  <tbody>\n",
       "    <tr>\n",
       "      <th>0</th>\n",
       "      <td>2016-12-31 03:50:00</td>\n",
       "      <td>8ca8a061b28d9ff</td>\n",
       "      <td>165.440311</td>\n",
       "      <td>14.0</td>\n",
       "      <td>2.780512e-08</td>\n",
       "      <td>1</td>\n",
       "      <td>11.899988</td>\n",
       "      <td>1.007009</td>\n",
       "    </tr>\n",
       "    <tr>\n",
       "      <th>1</th>\n",
       "      <td>2016-12-31 03:50:00</td>\n",
       "      <td>8ca8a061b2a97ff</td>\n",
       "      <td>67.627627</td>\n",
       "      <td>53.0</td>\n",
       "      <td>2.780502e-08</td>\n",
       "      <td>1</td>\n",
       "      <td>4.864419</td>\n",
       "      <td>3.812261</td>\n",
       "    </tr>\n",
       "    <tr>\n",
       "      <th>2</th>\n",
       "      <td>2016-12-31 03:50:00</td>\n",
       "      <td>8ca8a061b2d51ff</td>\n",
       "      <td>17.748383</td>\n",
       "      <td>28.0</td>\n",
       "      <td>2.780539e-08</td>\n",
       "      <td>1</td>\n",
       "      <td>1.276614</td>\n",
       "      <td>2.013998</td>\n",
       "    </tr>\n",
       "    <tr>\n",
       "      <th>3</th>\n",
       "      <td>2016-12-31 03:50:00</td>\n",
       "      <td>8ca8a061b2d59ff</td>\n",
       "      <td>95.084988</td>\n",
       "      <td>81.0</td>\n",
       "      <td>2.780535e-08</td>\n",
       "      <td>1</td>\n",
       "      <td>6.839331</td>\n",
       "      <td>5.826217</td>\n",
       "    </tr>\n",
       "    <tr>\n",
       "      <th>4</th>\n",
       "      <td>2016-12-31 03:50:00</td>\n",
       "      <td>8ca8a061b2d5bff</td>\n",
       "      <td>249.877302</td>\n",
       "      <td>68.0</td>\n",
       "      <td>2.780538e-08</td>\n",
       "      <td>1</td>\n",
       "      <td>17.973306</td>\n",
       "      <td>4.891140</td>\n",
       "    </tr>\n",
       "  </tbody>\n",
       "</table>\n",
       "</div>"
      ],
      "text/plain": [
       "             DATAHORA            hex12     delta_S  delta_t  area_hexagon  \\\n",
       "0 2016-12-31 03:50:00  8ca8a061b28d9ff  165.440311     14.0  2.780512e-08   \n",
       "1 2016-12-31 03:50:00  8ca8a061b2a97ff   67.627627     53.0  2.780502e-08   \n",
       "2 2016-12-31 03:50:00  8ca8a061b2d51ff   17.748383     28.0  2.780539e-08   \n",
       "3 2016-12-31 03:50:00  8ca8a061b2d59ff   95.084988     81.0  2.780535e-08   \n",
       "4 2016-12-31 03:50:00  8ca8a061b2d5bff  249.877302     68.0  2.780538e-08   \n",
       "\n",
       "   LINHA        Q_i       K_i  \n",
       "0      1  11.899988  1.007009  \n",
       "1      1   4.864419  3.812261  \n",
       "2      1   1.276614  2.013998  \n",
       "3      1   6.839331  5.826217  \n",
       "4      1  17.973306  4.891140  "
      ]
     },
     "execution_count": 23,
     "metadata": {},
     "output_type": "execute_result"
    }
   ],
   "source": [
    "graf.head()"
   ]
  },
  {
   "cell_type": "code",
   "execution_count": 24,
   "metadata": {},
   "outputs": [],
   "source": [
    "grou2 = graf.groupby([hex_col, 'DATAHORA'])\n",
    "graf2 = grou2.agg({'Q_i': 'sum', 'delta_t': 'sum', 'area_hexagon':'sum'})"
   ]
  },
  {
   "cell_type": "code",
   "execution_count": 25,
   "metadata": {},
   "outputs": [],
   "source": [
    "def f_mi(x):\n",
    "    \"\"\"\n",
    "    Gera as variáveis de fluxo (Q), densidade (K) e velocidade (V)\"\"\"\n",
    "    d = []\n",
    "    d.append( ( (x['area_hexagon'] * x['Q_i']).sum() ) / ( x['area_hexagon'].sum() ) ) \n",
    "    d.append( ( (x['area_hexagon'] * x['K_i']).sum() ) / ( x['area_hexagon'].sum() ) ) \n",
    "    d.append( (( (x['area_hexagon'] * x['Q_i']).sum() ) / ( x['area_hexagon'].sum() )) / (( (x['area_hexagon'] * x['K_i']).sum() ) / ( x['area_hexagon'].sum() )) ) \n",
    "    return pd.Series(d, index=['Q', 'K', 'V'])"
   ]
  },
  {
   "cell_type": "code",
   "execution_count": 26,
   "metadata": {},
   "outputs": [
    {
     "data": {
      "text/html": [
       "<div>\n",
       "<style scoped>\n",
       "    .dataframe tbody tr th:only-of-type {\n",
       "        vertical-align: middle;\n",
       "    }\n",
       "\n",
       "    .dataframe tbody tr th {\n",
       "        vertical-align: top;\n",
       "    }\n",
       "\n",
       "    .dataframe thead th {\n",
       "        text-align: right;\n",
       "    }\n",
       "</style>\n",
       "<table border=\"1\" class=\"dataframe\">\n",
       "  <thead>\n",
       "    <tr style=\"text-align: right;\">\n",
       "      <th></th>\n",
       "      <th>Q</th>\n",
       "      <th>K</th>\n",
       "      <th>V</th>\n",
       "    </tr>\n",
       "    <tr>\n",
       "      <th>DATAHORA</th>\n",
       "      <th></th>\n",
       "      <th></th>\n",
       "      <th></th>\n",
       "    </tr>\n",
       "  </thead>\n",
       "  <tbody>\n",
       "    <tr>\n",
       "      <th>2016-12-31 03:50:00</th>\n",
       "      <td>7.577628</td>\n",
       "      <td>15.496023</td>\n",
       "      <td>0.489005</td>\n",
       "    </tr>\n",
       "    <tr>\n",
       "      <th>2016-12-31 04:00:00</th>\n",
       "      <td>788.487240</td>\n",
       "      <td>6.408730</td>\n",
       "      <td>123.033303</td>\n",
       "    </tr>\n",
       "    <tr>\n",
       "      <th>2016-12-31 05:30:00</th>\n",
       "      <td>2.816365</td>\n",
       "      <td>1177.286036</td>\n",
       "      <td>0.002392</td>\n",
       "    </tr>\n",
       "    <tr>\n",
       "      <th>2016-12-31 06:20:00</th>\n",
       "      <td>3.051847</td>\n",
       "      <td>12.956193</td>\n",
       "      <td>0.235551</td>\n",
       "    </tr>\n",
       "    <tr>\n",
       "      <th>2016-12-31 07:40:00</th>\n",
       "      <td>117.716845</td>\n",
       "      <td>1135.197373</td>\n",
       "      <td>0.103697</td>\n",
       "    </tr>\n",
       "  </tbody>\n",
       "</table>\n",
       "</div>"
      ],
      "text/plain": [
       "                              Q            K           V\n",
       "DATAHORA                                                \n",
       "2016-12-31 03:50:00    7.577628    15.496023    0.489005\n",
       "2016-12-31 04:00:00  788.487240     6.408730  123.033303\n",
       "2016-12-31 05:30:00    2.816365  1177.286036    0.002392\n",
       "2016-12-31 06:20:00    3.051847    12.956193    0.235551\n",
       "2016-12-31 07:40:00  117.716845  1135.197373    0.103697"
      ]
     },
     "execution_count": 26,
     "metadata": {},
     "output_type": "execute_result"
    }
   ],
   "source": [
    "graf2 = graf.groupby(['DATAHORA']).apply(f_mi)\n",
    "graf2.head()"
   ]
  },
  {
   "cell_type": "code",
   "execution_count": 26,
   "metadata": {},
   "outputs": [
    {
     "name": "stdout",
     "output_type": "stream",
     "text": [
      "(233, 4)\n"
     ]
    },
    {
     "data": {
      "text/html": [
       "<div>\n",
       "<style scoped>\n",
       "    .dataframe tbody tr th:only-of-type {\n",
       "        vertical-align: middle;\n",
       "    }\n",
       "\n",
       "    .dataframe tbody tr th {\n",
       "        vertical-align: top;\n",
       "    }\n",
       "\n",
       "    .dataframe thead th {\n",
       "        text-align: right;\n",
       "    }\n",
       "</style>\n",
       "<table border=\"1\" class=\"dataframe\">\n",
       "  <thead>\n",
       "    <tr style=\"text-align: right;\">\n",
       "      <th></th>\n",
       "      <th>Q</th>\n",
       "      <th>K</th>\n",
       "      <th>V</th>\n",
       "      <th>turno</th>\n",
       "    </tr>\n",
       "    <tr>\n",
       "      <th>DATAHORA</th>\n",
       "      <th></th>\n",
       "      <th></th>\n",
       "      <th></th>\n",
       "      <th></th>\n",
       "    </tr>\n",
       "  </thead>\n",
       "  <tbody>\n",
       "    <tr>\n",
       "      <th>2016-12-31 03:50:00</th>\n",
       "      <td>7.523054</td>\n",
       "      <td>15.496023</td>\n",
       "      <td>0.485483</td>\n",
       "      <td>outro</td>\n",
       "    </tr>\n",
       "    <tr>\n",
       "      <th>2016-12-31 04:00:00</th>\n",
       "      <td>788.487240</td>\n",
       "      <td>6.408730</td>\n",
       "      <td>123.033303</td>\n",
       "      <td>outro</td>\n",
       "    </tr>\n",
       "    <tr>\n",
       "      <th>2016-12-31 05:30:00</th>\n",
       "      <td>2.816365</td>\n",
       "      <td>1177.286036</td>\n",
       "      <td>0.002392</td>\n",
       "      <td>outro</td>\n",
       "    </tr>\n",
       "    <tr>\n",
       "      <th>2016-12-31 06:20:00</th>\n",
       "      <td>3.051847</td>\n",
       "      <td>12.956193</td>\n",
       "      <td>0.235551</td>\n",
       "      <td>outro</td>\n",
       "    </tr>\n",
       "    <tr>\n",
       "      <th>2016-12-31 07:40:00</th>\n",
       "      <td>117.716845</td>\n",
       "      <td>1135.197373</td>\n",
       "      <td>0.103697</td>\n",
       "      <td>outro</td>\n",
       "    </tr>\n",
       "  </tbody>\n",
       "</table>\n",
       "</div>"
      ],
      "text/plain": [
       "                              Q            K           V  turno\n",
       "DATAHORA                                                       \n",
       "2016-12-31 03:50:00    7.523054    15.496023    0.485483  outro\n",
       "2016-12-31 04:00:00  788.487240     6.408730  123.033303  outro\n",
       "2016-12-31 05:30:00    2.816365  1177.286036    0.002392  outro\n",
       "2016-12-31 06:20:00    3.051847    12.956193    0.235551  outro\n",
       "2016-12-31 07:40:00  117.716845  1135.197373    0.103697  outro"
      ]
     },
     "execution_count": 26,
     "metadata": {},
     "output_type": "execute_result"
    }
   ],
   "source": [
    "# CRIANDO COLUNA COM TURNO\n",
    "\n",
    "conditions = [\n",
    "    (graf2.index.hour > 7) & (graf2.index.hour < 12),\n",
    "    (graf2.index.hour > 14) & (graf2.index.hour < 19)]\n",
    "\n",
    "choices = ['manha','tarde']\n",
    "\n",
    "graf2['turno'] = np.select(conditions, choices, default='outro')\n",
    "print(graf2.shape)\n",
    "graf2.head()"
   ]
  },
  {
   "cell_type": "code",
   "execution_count": 27,
   "metadata": {},
   "outputs": [],
   "source": [
    "gr = graf2.reset_index()\n",
    "\n",
    "gr['time'] = gr.apply(lambda x: x['DATAHORA'].time(),1)\n",
    "\n",
    "gr = gr.reset_index(drop=1)"
   ]
  },
  {
   "cell_type": "code",
   "execution_count": 49,
   "metadata": {},
   "outputs": [
    {
     "data": {
      "image/png": "[encoded data removed]",
      "text/plain": [
       "<Figure size 1440x576 with 1 Axes>"
      ]
     },
     "metadata": {
      "needs_background": "light"
     },
     "output_type": "display_data"
    }
   ],
   "source": [
    "xlim = [0, 20]\n",
    "ylim = [0, 700]\n",
    "\n",
    "fig, ax = plt.subplots()\n",
    "bp = graf2.plot(ax=ax, x='K', y='V', style='.', figsize=(20,8), alpha=1, xlim=xlim, ylim=None)\n",
    "#bp = gr.plot(ax=ax, x='V', y='K', style='.', figsize=(20,8), alpha=1)\n",
    "\n",
    "#bp = graf2.groupby('turno').plot(ax=ax, x=\"V\", y=\"K\", style='.', figsize=(20,8), alpha=1)"
   ]
  },
  {
   "cell_type": "code",
   "execution_count": 33,
   "metadata": {},
   "outputs": [
    {
     "data": {
      "image/png": "[encoded data removed]",
      "text/plain": [
       "<Figure size 1440x576 with 1 Axes>"
      ]
     },
     "metadata": {
      "needs_background": "light"
     },
     "output_type": "display_data"
    }
   ],
   "source": [
    "# PERÍODO DE 15 MINUTOS, HEX12\n",
    "\n",
    "xlim = [0, .019e11]\n",
    "ylim = [0, 1200]\n",
    "\n",
    "fig, ax = plt.subplots()\n",
    "#bp = graf2.plot(ax=ax, x='K', y='Q', style='.', figsize=(20,8), alpha=1, xlim=xlim, ylim=ylim)\n",
    "bp = graf2.plot(ax=ax, x='Q', y='K', style='.', figsize=(20,8), alpha=1)\n",
    "\n",
    "#bp = graf.groupby('turno').plot(ax=ax, x='density', y='VELOCIDADE', style='.', figsize=(20,8), alpha=1)"
   ]
  },
  {
   "cell_type": "code",
   "execution_count": 50,
   "metadata": {},
   "outputs": [
    {
     "data": {
      "image/png": "[encoded data removed]",
      "text/plain": [
       "<Figure size 1440x576 with 1 Axes>"
      ]
     },
     "metadata": {
      "needs_background": "light"
     },
     "output_type": "display_data"
    }
   ],
   "source": [
    "# PERÍODO DE 15 MINUTOS, HEX12\n",
    "\n",
    "xlim = [0, .019e11]\n",
    "ylim = [0, 1000]\n",
    "\n",
    "fig, ax = plt.subplots()\n",
    "bp = graf2.plot(ax=ax, x='K', y='V', style='.', figsize=(20,8), alpha=1, xlim=xlim, ylim=ylim)\n",
    "#bp = graf2.plot(ax=ax, x='K', y='V', style='.', figsize=(20,8), alpha=1)\n",
    "\n",
    "#bp = graf.groupby('turno').plot(ax=ax, x='density', y='VELOCIDADE', style='.', figsize=(20,8), alpha=1)"
   ]
  },
  {
   "cell_type": "code",
   "execution_count": 18,
   "metadata": {},
   "outputs": [
    {
     "data": {
      "image/png": "[encoded data removed]",
      "text/plain": [
       "<Figure size 1440x576 with 1 Axes>"
      ]
     },
     "metadata": {
      "needs_background": "light"
     },
     "output_type": "display_data"
    }
   ],
   "source": [
    "# PERÍODO DE 5 MINUTOS, HEX11\n",
    "\n",
    "xlim = [0, .019e10]\n",
    "ylim = [0, 1000]\n",
    "\n",
    "fig, ax = plt.subplots()\n",
    "bp = graf2.plot(ax=ax, x='K', y='V', style='.', figsize=(20,8), alpha=1, xlim=xlim, ylim=ylim)\n",
    "#bp = graf2.plot(ax=ax, x='K', y='Q', style='.', figsize=(20,8), alpha=1)\n",
    "\n",
    "#bp = graf.groupby('turno').plot(ax=ax, x='density', y='VELOCIDADE', style='.', figsize=(20,8), alpha=1)"
   ]
  }
 ],
 "metadata": {
  "kernelspec": {
   "display_name": "Python 3",
   "language": "python",
   "name": "python3"
  },
  "language_info": {
   "codemirror_mode": {
    "name": "ipython",
    "version": 3
   },
   "file_extension": ".py",
   "mimetype": "text/x-python",
   "name": "python",
   "nbconvert_exporter": "python",
   "pygments_lexer": "ipython3",
   "version": "3.7.1"
  }
 },
 "nbformat": 4,
 "nbformat_minor": 2
}
