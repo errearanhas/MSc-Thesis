{
 "cells": [
  {
   "cell_type": "code",
   "execution_count": 1,
   "metadata": {},
   "outputs": [
    {
     "ename": "IndentationError",
     "evalue": "expected an indented block (<ipython-input-1-959b9b2ca276>, line 12)",
     "output_type": "error",
     "traceback": [
      "\u001b[0;36m  File \u001b[0;32m\"<ipython-input-1-959b9b2ca276>\"\u001b[0;36m, line \u001b[0;32m12\u001b[0m\n\u001b[0;31m    \"\"\"\u001b[0m\n\u001b[0m       \n^\u001b[0m\n\u001b[0;31mIndentationError\u001b[0m\u001b[0;31m:\u001b[0m expected an indented block\n"
     ]
    }
   ],
   "source": [
    "def GeoMM(traj, gdfn, gdfe):\n",
    "\"\"\"\n",
    "performs map matching on a given sequence of points\n",
    "\n",
    "Parameters\n",
    "----------\n",
    "\n",
    "Returns\n",
    "-------\n",
    "list of tuples each containing timestamp, projected point to the line, the edge to which GPS point has been projected, the geometry of the edge))\n",
    "\n",
    "\"\"\"\n",
    "\n",
    "traj = pd.DataFrame(traj, columns=['timestamp', 'xy'])\n",
    "traj['geom'] = traj.apply(lambda row: Point(row.xy), axis=1)\n",
    "traj = gpd.GeoDataFrame(traj, geometry=traj['geom'], crs=EPSG3740)\n",
    "traj.drop('geom', axis=1, inplace=True)\n",
    "\n",
    "n_sindex = gdfn.sindex\n",
    "\n",
    "res = []\n",
    "for gps in traj.itertuples():\n",
    "    tm = gps[1]\n",
    "    p = gps[3]\n",
    "    circle = p.buffer(150)\n",
    "    possible_matches_index = list(n_sindex.intersection(circle.bounds))\n",
    "    possible_matches = gdfn.iloc[possible_matches_index]\n",
    "    precise_matches = possible_matches[possible_matches.intersects(circle)]\n",
    "    candidate_nodes = list(precise_matches.index)\n",
    "\n",
    "    candidate_edges = []\n",
    "    for nid in candidate_nodes:\n",
    "        candidate_edges.append(G.in_edges(nid))\n",
    "        candidate_edges.append(G.out_edges(nid))\n",
    "\n",
    "    candidate_edges = [item for sublist in candidate_edges for item in sublist]\n",
    "    dist = []\n",
    "    for edge in candidate_edges:\n",
    "        # get the geometry\n",
    "        ls = gdfe[(gdfe.u == edge[0]) & (gdfe.v == edge[1])].geometry\n",
    "        dist.append([ls.distance(p), edge, ls])\n",
    "\n",
    "    dist.sort()\n",
    "    true_edge = dist[0][1]\n",
    "    true_edge_geom = dist[0][2].item()\n",
    "    pp = true_edge_geom.interpolate(true_edge_geom.project(p)) # projected point\n",
    "    res.append((tm, pp, true_edge, true_edge_geom))\n"
   ]
  },
  {
   "cell_type": "code",
   "execution_count": null,
   "metadata": {},
   "outputs": [],
   "source": []
  }
 ],
 "metadata": {
  "kernelspec": {
   "display_name": "Python 3",
   "language": "python",
   "name": "python3"
  },
  "language_info": {
   "codemirror_mode": {
    "name": "ipython",
    "version": 3
   },
   "file_extension": ".py",
   "mimetype": "text/x-python",
   "name": "python",
   "nbconvert_exporter": "python",
   "pygments_lexer": "ipython3",
   "version": "3.7.1"
  }
 },
 "nbformat": 4,
 "nbformat_minor": 2
}
